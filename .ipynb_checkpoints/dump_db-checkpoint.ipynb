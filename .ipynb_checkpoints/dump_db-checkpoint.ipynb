{
 "cells": [
  {
   "cell_type": "code",
   "execution_count": 1,
   "id": "d5703f5a",
   "metadata": {},
   "outputs": [],
   "source": [
    "import sqlite3\n",
    "import csv"
   ]
  },
  {
   "cell_type": "code",
   "execution_count": 2,
   "id": "c7819631",
   "metadata": {},
   "outputs": [],
   "source": [
    "conn = sqlite3.connect('news.db')"
   ]
  },
  {
   "cell_type": "code",
   "execution_count": 3,
   "id": "7eb9b8ab",
   "metadata": {},
   "outputs": [],
   "source": [
    "cur = conn.cursor()"
   ]
  },
  {
   "cell_type": "code",
   "execution_count": 4,
   "id": "e802ebe1",
   "metadata": {},
   "outputs": [],
   "source": [
    "all_rows = cur.execute(\"select title,content from new_news\").fetchall()"
   ]
  },
  {
   "cell_type": "code",
   "execution_count": 5,
   "id": "05558e54",
   "metadata": {},
   "outputs": [
    {
     "data": {
      "text/plain": [
       "[('Liverpool vs Bologna: LIVE Stream and Score Updates in Friendly Match (1-0) - Minamino puts Reds infront - VAVEL',\n",
       "  ''),\n",
       " ('Boko Haram And ISWAP: Bloodshed And Rivalry - CHANNELS TELEVISION',\n",
       "  'A screengrab from the video showing the execution of five men by suspected Boko Haram terrorists in Borno State.\\r\\nHere is a factfile on Boko Haram and its rival ISWAP following the killing of 24 Chad… [+3633 chars]'),\n",
       " ('AMD’s Ryzen 5000 processors with integrated graphics are now available to buy - The Verge',\n",
       "  'Not just for OEMs anymore\\r\\nIn April, AMD announced versions of its Ryzen 5000 desktop CPUs with integrated graphics cards, but it only made them available for prebuilt OEM systems, promising that it … [+1280 chars]'),\n",
       " ('Amnesty Demands Probe Into Egypt Army ‘Executions’ Video - CHANNELS TELEVISION',\n",
       "  'Amnesty International called Thursday for an investigation after it said an Egyptian army video apparently showed soldiers carrying out “extrajudicial executions”, including shooting a sleeping man.\\r… [+1742 chars]'),\n",
       " ('Laptops: What you need to know before you buy - The Irish Times',\n",
       "  'Its almost time to get back to school and college, which means you might be considering investing in a new laptop. \\r\\nDespite predictions of their demise when tablets came on the scene, the laptop is … [+325 chars]'),\n",
       " ('Who are authorized persons outside of residence or APORs? - GMA News Online',\n",
       "  'The Inter-Agency Task Force on Emerging Infectious Diseases on Thursday night released its detailed list of who may leave their homes as authorized persons outside of residence during the implementat… [+70 chars]'),\n",
       " (\"'Uncaring' mum and boyfriend found guilty of killing Kaylee-Jayde Priest, 3 - The Mirror\",\n",
       "  'An \"uncaring\" mum has been convicted alongside her then boyfriend of killing her daughter - days after threatening to do so in a text message.\\r\\nKaylee-Jayde Priest, three, was found dead at the flat … [+4863 chars]'),\n",
       " (\"Pokémon Go's most prominent players call for Niantic to reconsider removal of pandemic changes - Eurogamer.net\",\n",
       "  \"Pokémon Go's most high profile players have called upon developer Niantic to reconsider its decision to remove the game's extended interaction range, which was implemented last year as the pandemic h… [+5444 chars]\"),\n",
       " ('Inflation slows to 4% in July - Philstar.com',\n",
       "  'MANILA, Philippines — Inflation further eased in July, sliding back to within the government target for the first time this year, as transport prices decelerated, but rising costs of some items in th… [+4668 chars]'),\n",
       " (\"Nintendo's profit misses estimates - Taipei Times\",\n",
       "  'Nintendos profit misses estimates\\r\\nNintendo Co has said that it would buy back shares after its quarterly profit missed estimates, underscoring concerns that gaming demand might be peaking as parts o… [+1923 chars]'),\n",
       " ('The photo that has come to define Turkey’s wildfires - The Guardian',\n",
       "  'A little boy ready for a swim stops on the edge of the clear water, his gaze distracted by a firefighting plane flying low through a rust-red sky. For many, the photo apparently taken by a Russian ho… [+1075 chars]'),\n",
       " (\"Coronavirus: What's happening in Canada and around the world on Thursday - CBC.ca\",\n",
       "  \"The latest:\\r\\nSeven U.S. states with the lowest COVID-19 vaccination rates account for half of the country's new cases and hospitalizations in the last week, the White House said on Thursday.\\r\\nThe sta… [+4534 chars]\"),\n",
       " ('AU shares 400m COVID-19 vaccine doses to member states - Punch Newspapers',\n",
       "  'The African Union on Thursday began monthly shipments of COVID-19 vaccines acquired by the AU/African Vaccine Acquisition Trust to its member states.\\r\\nPresident of the Republic of South Africa, Mr. C… [+5420 chars]'),\n",
       " ('PH receives 1 million more Sinovac doses - CNN Philippines',\n",
       "  \"Metro Manila (CNN Philippines, August 5) The country received one million more doses of China's Sinovac COVID-19 vaccine Thursday night, as the government gears up to further accelerate its immunizat… [+1534 chars]\"),\n",
       " ('Climate change almost completely destabilizes Atlantic Meridional Overturning Circulation, study finds - The Washington Post',\n",
       "  'Sign up for the latest news about climate change, energy and the environment, delivered every Thursday\\r\\nScientists havent directly observed the AMOC slowing down. But the new analysis, published Thur… [+5771 chars]'),\n",
       " ('High Court orders two Travellers be jailed for failing to leave council lands - Independent.ie',\n",
       "  'THE\\xa0High Court has ruled that two Travellers\\xa0should be committed to prison for failing to comply with orders to vacate local authority owned lands.\\r\\nMs Justice Siobhan Stack held that both Michael Mc… [+4456 chars]'),\n",
       " ('Japanese scientists develop freeze-dried mouse sperm postcards - Bangkok Post',\n",
       "  \"WASHINGTON - Good news: Scientists won't have to worry about their mouse sperm vials breaking in transit ever again.\\r\\nResearchers in Japan have developed a way to freeze dry rodent ejaculate between … [+2609 chars]\"),\n",
       " ('Australian government to offer reparations to indigenous communities forced from their land - USA TODAY',\n",
       "  'Decades after being forcibly removed from their land, the \"Stolen Generations\" in Australia will receive reparations and formal acknowledgment for the trauma they\\'ve endured.\\xa0\\r\\nAustralian Prime Minis… [+2861 chars]'),\n",
       " (\"Bournemouth beach evacuated after 'large marine animal' spotted in water - Sky News\",\n",
       "  ''),\n",
       " ('Belarus Olympian Timanovskaya says grandmother warned her not to come home - BBC News',\n",
       "  'media captionAthlete Krystina Timanovskaya: \"It\\'s dangerous for me in Belarus\"\\r\\nA sprinter from Belarus who refused her team\\'s orders to fly home early from the Olympics has revealed she decided to f… [+3335 chars]')]"
      ]
     },
     "execution_count": 5,
     "metadata": {},
     "output_type": "execute_result"
    }
   ],
   "source": [
    "all_rows"
   ]
  },
  {
   "cell_type": "code",
   "execution_count": 6,
   "id": "53fc18f7",
   "metadata": {},
   "outputs": [],
   "source": [
    "with open('new_news.csv', 'w', newline='', encoding='utf-8') as fp:\n",
    "    writer = csv.writer(fp)\n",
    "    writer.writerows(all_rows)"
   ]
  },
  {
   "cell_type": "code",
   "execution_count": 7,
   "id": "556c1ab2",
   "metadata": {},
   "outputs": [],
   "source": [
    "conn.close()"
   ]
  },
  {
   "cell_type": "code",
   "execution_count": null,
   "id": "25ad805c",
   "metadata": {},
   "outputs": [],
   "source": []
  }
 ],
 "metadata": {
  "kernelspec": {
   "display_name": "Python 3",
   "language": "python",
   "name": "python3"
  },
  "language_info": {
   "codemirror_mode": {
    "name": "ipython",
    "version": 3
   },
   "file_extension": ".py",
   "mimetype": "text/x-python",
   "name": "python",
   "nbconvert_exporter": "python",
   "pygments_lexer": "ipython3",
   "version": "3.8.8"
  }
 },
 "nbformat": 4,
 "nbformat_minor": 5
}
